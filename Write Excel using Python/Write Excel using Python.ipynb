{
 "cells": [
  {
   "cell_type": "markdown",
   "metadata": {},
   "source": [
    "# Write Excel using Python\n",
    "\n",
    "This nottebook will serve as a guide. \n",
    "\n",
    "You'll learn how to write and visualize your Excel Spreadsheets with python’s libraries OpenPyxl and XlsxWriter."
   ]
  },
  {
   "cell_type": "markdown",
   "metadata": {},
   "source": [
    "## Installing OpenPyxl"
   ]
  },
  {
   "cell_type": "code",
   "execution_count": 1,
   "metadata": {},
   "outputs": [
    {
     "name": "stdout",
     "output_type": "stream",
     "text": [
      "Requirement already satisfied: openpyxl in c:\\users\\ifeanyibenedictiheag\\anaconda3\\lib\\site-packages (3.0.5)\n",
      "Requirement already satisfied: jdcal in c:\\users\\ifeanyibenedictiheag\\anaconda3\\lib\\site-packages (from openpyxl) (1.4.1)\n",
      "Requirement already satisfied: et-xmlfile in c:\\users\\ifeanyibenedictiheag\\anaconda3\\lib\\site-packages (from openpyxl) (1.0.1)\n",
      "Note: you may need to restart the kernel to use updated packages.\n"
     ]
    }
   ],
   "source": [
    "pip install openpyxl"
   ]
  },
  {
   "cell_type": "markdown",
   "metadata": {},
   "source": [
    "## Create, Read and Load Existing Workbooks with OpenPyxl."
   ]
  },
  {
   "cell_type": "code",
   "execution_count": 2,
   "metadata": {},
   "outputs": [],
   "source": [
    "from openpyxl import Workbook  #importing our library\n",
    "\n",
    "your_workbook = Workbook()    #creating the workbook\n",
    "sheet = your_workbook.active\n",
    "sheet[\"A1\"] = \"Hello\"\n",
    "sheet[\"B1\"] = \"Sectionio!\"\n",
    "sheet[\"A2\"] = \"EngEd\"\n",
    "sheet[\"B2\"] = \"is!\"\n",
    "sheet[\"C2\"] = \"Two\"\n",
    "\n",
    "your_workbook.save(filename=\"hello_world_openpyxl.xlsx\") #saving the file with the 'xlsx' excel extension"
   ]
  },
  {
   "cell_type": "markdown",
   "metadata": {},
   "source": [
    "#### Loading Pre-existing workbook"
   ]
  },
  {
   "cell_type": "code",
   "execution_count": 3,
   "metadata": {},
   "outputs": [
    {
     "name": "stdout",
     "output_type": "stream",
     "text": [
      "['Products']\n"
     ]
    }
   ],
   "source": [
    "from openpyxl import load_workbook\n",
    "\n",
    "your_workbook2 = load_workbook('Test.xlsx')\n",
    "print(your_workbook2.sheetnames)"
   ]
  },
  {
   "cell_type": "markdown",
   "metadata": {},
   "source": [
    "## Basic Excel Operations with OpenPyxl."
   ]
  },
  {
   "cell_type": "code",
   "execution_count": 4,
   "metadata": {},
   "outputs": [
    {
     "name": "stdout",
     "output_type": "stream",
     "text": [
      "1\n"
     ]
    }
   ],
   "source": [
    "print(your_workbook2['Products']['A2'].value)"
   ]
  },
  {
   "cell_type": "code",
   "execution_count": 5,
   "metadata": {},
   "outputs": [
    {
     "name": "stdout",
     "output_type": "stream",
     "text": [
      "11\n",
      "2\n"
     ]
    }
   ],
   "source": [
    "row = your_workbook2['Products'].max_row\n",
    "col = your_workbook2['Products'].max_column\n",
    "\n",
    "print (row)\n",
    "print (col)"
   ]
  },
  {
   "cell_type": "code",
   "execution_count": 6,
   "metadata": {},
   "outputs": [
    {
     "name": "stdout",
     "output_type": "stream",
     "text": [
      "_ProductID\n",
      "Product Name\n",
      "1\n",
      "Cookware\n",
      "2\n",
      "Photo Frames\n",
      "3\n",
      "Table Lamps\n",
      "4\n",
      "Serveware\n",
      "5\n",
      "Bathroom Furniture\n",
      "6\n",
      "SUM(A2:A11)\n",
      "7\n",
      "Dinnerware\n",
      "8\n",
      "Cocktail Glasses\n",
      "9\n",
      "Baseball\n",
      "10\n",
      "Blankets\n"
     ]
    }
   ],
   "source": [
    "for i in range(1, row+1):\n",
    "    for j in range (1, col +1):\n",
    "        print(your_workbook2['Products'].cell(i, j).value)"
   ]
  },
  {
   "cell_type": "code",
   "execution_count": 7,
   "metadata": {},
   "outputs": [],
   "source": [
    "Wb = your_workbook2['Products'] #creating a worksheet object."
   ]
  },
  {
   "cell_type": "markdown",
   "metadata": {},
   "source": [
    "#### Cell formatting"
   ]
  },
  {
   "cell_type": "code",
   "execution_count": 8,
   "metadata": {},
   "outputs": [],
   "source": [
    "from openpyxl.styles import PatternFill\n",
    "\n",
    "first_style = PatternFill(patternType = 'solid', fgColor = '00FF00')\n",
    "Wb['B7'].fill = first_style"
   ]
  },
  {
   "cell_type": "code",
   "execution_count": 9,
   "metadata": {},
   "outputs": [],
   "source": [
    "your_workbook2.save(filename='Test.xlsx')"
   ]
  },
  {
   "cell_type": "markdown",
   "metadata": {},
   "source": [
    "#### Conditional formatting"
   ]
  },
  {
   "cell_type": "code",
   "execution_count": 10,
   "metadata": {},
   "outputs": [],
   "source": [
    "from openpyxl.formatting.rule import ColorScaleRule\n",
    "\n",
    "Condition_style = ColorScaleRule(start_type = 'min', start_color = 'E0FFFF', end_type = 'max', end_color = '008080')\n",
    "\n",
    "Wb.conditional_formatting.add('A2:A11', Condition_style)\n",
    "\n",
    "your_workbook2.save(filename='Test.xlsx')"
   ]
  },
  {
   "cell_type": "code",
   "execution_count": 11,
   "metadata": {},
   "outputs": [],
   "source": [
    "Wb['A13'] = 'Total'\n",
    "Wb['B13'] = '=SUM(A2:A11)'\n",
    "your_workbook2.save(filename='Test.xlsx')"
   ]
  },
  {
   "cell_type": "markdown",
   "metadata": {},
   "source": [
    "## How to Visualize your Dataset with OpenPyxl."
   ]
  },
  {
   "cell_type": "code",
   "execution_count": 12,
   "metadata": {},
   "outputs": [],
   "source": [
    "from openpyxl.chart import BarChart, Reference"
   ]
  },
  {
   "cell_type": "code",
   "execution_count": 13,
   "metadata": {},
   "outputs": [],
   "source": [
    "sheet = your_workbook2.active \n",
    "\n",
    "values = Reference(sheet, min_col = 1, min_row = 1, max_col = 2, max_row = 11) #we would give it the range of our data\n",
    "\n",
    "chart = BarChart()  # adding a bar chart\n",
    "chart.add_data(values)\n",
    "chart.title = 'BAR-CHART'    # giving the chart a title \n",
    "chart.y_axis.title = 'Products'\n",
    "sheet.add_chart(chart, \"D2\")  #D2 represent where we want the chart to start from/\n",
    "\n",
    "your_workbook2.save(filename='Test.xlsx')"
   ]
  },
  {
   "cell_type": "code",
   "execution_count": null,
   "metadata": {},
   "outputs": [],
   "source": []
  },
  {
   "cell_type": "markdown",
   "metadata": {},
   "source": [
    "## Installing XlsxWriter"
   ]
  },
  {
   "cell_type": "code",
   "execution_count": 14,
   "metadata": {},
   "outputs": [
    {
     "name": "stdout",
     "output_type": "stream",
     "text": [
      "Requirement already satisfied: xlsxwriter in c:\\users\\ifeanyibenedictiheag\\anaconda3\\lib\\site-packages (1.3.7)\n",
      "Note: you may need to restart the kernel to use updated packages.\n"
     ]
    }
   ],
   "source": [
    "pip install xlsxwriter"
   ]
  },
  {
   "cell_type": "markdown",
   "metadata": {},
   "source": [
    "## Create, Read and Load Existing Workbooks with XlsxWriter."
   ]
  },
  {
   "cell_type": "code",
   "execution_count": 15,
   "metadata": {},
   "outputs": [],
   "source": [
    "import xlsxwriter #Importing our library\n",
    "\n",
    "your_workbook = xlsxwriter.Workbook('hello_world_xlwt.xlsx')  #Creating the workbook\n",
    "sheet1 = your_workbook.add_worksheet('Sheet 1')  #The add.worksheet() helps you add a worksheet into your excel files"
   ]
  },
  {
   "cell_type": "code",
   "execution_count": 16,
   "metadata": {},
   "outputs": [],
   "source": [
    "sheet1.write('A1' , 'Hello') \n",
    "sheet1.write('B1' , 'World')\n",
    "sheet1.write('A2' , 'EngEd')\n",
    "sheet1.write('B2', 'is')\n",
    "sheet1.write('C2' , 'Two')\n",
    "\n",
    "your_workbook.close() #once done, you close using .close"
   ]
  },
  {
   "cell_type": "markdown",
   "metadata": {},
   "source": [
    "#### You could also write the code above could by specifying the row and column. Just remove the '#' to run it. \n",
    "\n",
    "#### Row 0 and column 0 which is A1"
   ]
  },
  {
   "cell_type": "code",
   "execution_count": 17,
   "metadata": {},
   "outputs": [],
   "source": [
    "#sheet1.write(0, 0 , 'Hello') \n",
    "#sheet1.write(0, 1, 'World')\n",
    "#sheet1.write(1, 0 , 'EngEd')\n",
    "#sheet1.write(1, 2, 'is')\n",
    "#sheet1.write(1, 3, 'Two')\n",
    "\n",
    "#your_workbook.close() #close the workbook"
   ]
  },
  {
   "cell_type": "markdown",
   "metadata": {},
   "source": [
    "## Basic Excel Operations with XlsxWriter."
   ]
  },
  {
   "cell_type": "code",
   "execution_count": 18,
   "metadata": {},
   "outputs": [],
   "source": [
    "import xlsxwriter #Importing our library\n",
    "\n",
    "your_workbook = xlsxwriter.Workbook('hello_world_xlwt.xlsx')  #Creating the workbook\n",
    "sheet1 = your_workbook.add_worksheet('Sheet 1')  #The add.worksheet() helps you add a worksheet into your excel files\n",
    "\n",
    "sheet1.write_column('D1', [1, 2, 3, 4, 5]) #Adding data\n",
    "sheet1.write_row('A4', [1, 2, 3, 4, 5])\n",
    "\n",
    "sheet1.write('C7', 'TOTAL:')\n",
    "sheet1.write('D7', '=SUM(D1:D5)')\n",
    "\n",
    "your_workbook.close()"
   ]
  },
  {
   "cell_type": "code",
   "execution_count": 19,
   "metadata": {},
   "outputs": [],
   "source": [
    "import xlsxwriter #Importing our library\n",
    "\n",
    "your_workbook = xlsxwriter.Workbook('hello_world_xlwt.xlsx')  #Creating the workbook\n",
    "sheet1 = your_workbook.add_worksheet('Sheet 1')  #The add.worksheet() helps you add a worksheet into your excel files\n",
    "\n",
    "sheet1.write_column('D1', [1, 2, 3, 4, 5]) #Adding data\n",
    "sheet1.write_row('A4', [1, 2, 3, 4, 5])\n",
    "\n",
    "sheet1.write('C7', 'TOTAL:')\n",
    "sheet1.write('D7', '=SUM(D1:D5)')\n",
    "\n",
    "## Cell formatting\n",
    "Cyan_design = your_workbook.add_format({'bg_color' :  'cyan'}) #Creating a theme\n",
    "\n",
    "sheet1.write('A7', '=PI()', Cyan_design) #Applying it on cell A7\n",
    "\n",
    "## Conditional formatting\n",
    "oak_design = your_workbook.add_format({'bg_color' :  'green’',\n",
    "                                       'font_name' : 'Century',\n",
    "                                       'bold': True,\n",
    "                                       'font_size' : 25 })\n",
    "\n",
    "sheet1.conditional_format('D1:D5' ,\n",
    "                                  { 'type' : 'cell',\n",
    "                                   'criteria': '>',\n",
    "                                   'value' : 3,\n",
    "                                   'format' : oak_design})\n",
    "\n",
    "# Number formatting\n",
    "currency_format = your_workbook.add_format({'num_format': '$'})\n",
    "\n",
    "sheet1.write('A8', 1234.56, currency_format)\n",
    "\n",
    "\n",
    "your_workbook.close()"
   ]
  },
  {
   "cell_type": "code",
   "execution_count": 20,
   "metadata": {},
   "outputs": [
    {
     "name": "stdout",
     "output_type": "stream",
     "text": [
      "Help on Format in module xlsxwriter.format object:\n",
      "\n",
      "class Format(xlsxwriter.xmlwriter.XMLwriter)\n",
      " |  Format(properties=None, xf_indices=None, dxf_indices=None)\n",
      " |  \n",
      " |  A class for writing the Excel XLSX Format file.\n",
      " |  \n",
      " |  Method resolution order:\n",
      " |      Format\n",
      " |      xlsxwriter.xmlwriter.XMLwriter\n",
      " |      builtins.object\n",
      " |  \n",
      " |  Methods defined here:\n",
      " |  \n",
      " |  __init__(self, properties=None, xf_indices=None, dxf_indices=None)\n",
      " |      Constructor.\n",
      " |  \n",
      " |  set_align(self, alignment)\n",
      " |      Set the Format cell alignment.\n",
      " |      \n",
      " |      Args:\n",
      " |          alignment: String representing alignment. No default.\n",
      " |      \n",
      " |      Returns:\n",
      " |          Nothing.\n",
      " |  \n",
      " |  set_bg_color(self, bg_color)\n",
      " |      Set the Format bg_color property.\n",
      " |      \n",
      " |      Args:\n",
      " |          bg_color: Background color. No default.\n",
      " |      \n",
      " |      Returns:\n",
      " |          Nothing.\n",
      " |  \n",
      " |  set_bold(self, bold=True)\n",
      " |      Set the Format bold property.\n",
      " |      \n",
      " |      Args:\n",
      " |          bold: Default is True, turns property on.\n",
      " |      \n",
      " |      Returns:\n",
      " |          Nothing.\n",
      " |  \n",
      " |  set_border(self, style=1)\n",
      " |      Set the Format bottom property.\n",
      " |      \n",
      " |      Args:\n",
      " |          bottom: Default is 1, border type 1.\n",
      " |      \n",
      " |      Returns:\n",
      " |          Nothing.\n",
      " |  \n",
      " |  set_border_color(self, color)\n",
      " |      Set the Format bottom property.\n",
      " |      \n",
      " |      Args:\n",
      " |          color: Color string. No default.\n",
      " |      \n",
      " |      Returns:\n",
      " |          Nothing.\n",
      " |  \n",
      " |  set_bottom(self, bottom=1)\n",
      " |      Set the Format bottom property.\n",
      " |      \n",
      " |      Args:\n",
      " |          bottom: Default is 1, border type 1.\n",
      " |      \n",
      " |      Returns:\n",
      " |          Nothing.\n",
      " |  \n",
      " |  set_bottom_color(self, bottom_color)\n",
      " |      Set the Format bottom_color property.\n",
      " |      \n",
      " |      Args:\n",
      " |          bottom_color: Color string. No default.\n",
      " |      \n",
      " |      Returns:\n",
      " |          Nothing.\n",
      " |  \n",
      " |  set_center_across(self, align_type=None)\n",
      " |      Set the Format center_across property.\n",
      " |      \n",
      " |      Returns:\n",
      " |          Nothing.\n",
      " |  \n",
      " |  set_color(self, font_color)\n",
      " |  \n",
      " |  set_color_indexed(self, color_index)\n",
      " |  \n",
      " |  set_diag_border(self, diag_border=1)\n",
      " |      Set the Format diag_border property.\n",
      " |      \n",
      " |      Args:\n",
      " |          diag_border: Default is 1, border type 1.\n",
      " |      \n",
      " |      Returns:\n",
      " |          Nothing.\n",
      " |  \n",
      " |  set_diag_color(self, diag_color)\n",
      " |      Set the Format diag_color property.\n",
      " |      \n",
      " |      Args:\n",
      " |          diag_color: Color string. No default.\n",
      " |      \n",
      " |      Returns:\n",
      " |          Nothing.\n",
      " |  \n",
      " |  set_diag_type(self, diag_type=1)\n",
      " |      Set the Format diag_type property.\n",
      " |      \n",
      " |      Args:\n",
      " |          diag_type: Default is 1, border type 1.\n",
      " |      \n",
      " |      Returns:\n",
      " |          Nothing.\n",
      " |  \n",
      " |  set_dxf_index(self, dxf_index)\n",
      " |  \n",
      " |  set_fg_color(self, fg_color)\n",
      " |      Set the Format fg_color property.\n",
      " |      \n",
      " |      Args:\n",
      " |          fg_color: Foreground color. No default.\n",
      " |      \n",
      " |      Returns:\n",
      " |          Nothing.\n",
      " |  \n",
      " |  set_font(self, font_name)\n",
      " |      # Compatibility methods.\n",
      " |  \n",
      " |  set_font_charset(self, font_charset)\n",
      " |  \n",
      " |  set_font_color(self, font_color)\n",
      " |      Set the Format font_color property. The Excel default is black.\n",
      " |      \n",
      " |      Args:\n",
      " |          font_color: String with the font color. No default.\n",
      " |      \n",
      " |      Returns:\n",
      " |          Nothing.\n",
      " |  \n",
      " |  set_font_condense(self, font_condense)\n",
      " |  \n",
      " |  set_font_extend(self, font_extend)\n",
      " |  \n",
      " |  set_font_family(self, font_family)\n",
      " |  \n",
      " |  set_font_index(self, font_index)\n",
      " |  \n",
      " |  set_font_name(self, font_name)\n",
      " |      Set the Format font_name property such as 'Time New Roman'. The\n",
      " |      default Excel font is 'Calibri'.\n",
      " |      \n",
      " |      Args:\n",
      " |          font_name: String with the font name. No default.\n",
      " |      \n",
      " |      Returns:\n",
      " |          Nothing.\n",
      " |  \n",
      " |  set_font_only(self, font_only=True)\n",
      " |  \n",
      " |  set_font_outline(self, font_outline=True)\n",
      " |      Set the Format font_outline property.\n",
      " |      \n",
      " |      Args:\n",
      " |          font_outline: Default is True, turns property on.\n",
      " |      \n",
      " |      Returns:\n",
      " |          Nothing.\n",
      " |  \n",
      " |  set_font_scheme(self, font_scheme)\n",
      " |  \n",
      " |  set_font_script(self, font_script=1)\n",
      " |      Set the Format font_script property.\n",
      " |      \n",
      " |      Args:\n",
      " |          font_script: Default is 1, superscript.\n",
      " |      \n",
      " |      Returns:\n",
      " |          Nothing.\n",
      " |  \n",
      " |  set_font_shadow(self, font_shadow=True)\n",
      " |      Set the Format font_shadow property.\n",
      " |      \n",
      " |      Args:\n",
      " |          font_shadow: Default is True, turns property on.\n",
      " |      \n",
      " |      Returns:\n",
      " |          Nothing.\n",
      " |  \n",
      " |  set_font_size(self, font_size=11)\n",
      " |      Set the Format font_size property. The default Excel font size is 11.\n",
      " |      \n",
      " |      Args:\n",
      " |          font_size: Int with font size. No default.\n",
      " |      \n",
      " |      Returns:\n",
      " |          Nothing.\n",
      " |  \n",
      " |  set_font_strikeout(self, font_strikeout=True)\n",
      " |      Set the Format font_strikeout property.\n",
      " |      \n",
      " |      Args:\n",
      " |          font_strikeout: Default is True, turns property on.\n",
      " |      \n",
      " |      Returns:\n",
      " |          Nothing.\n",
      " |  \n",
      " |  set_has_fill(self, has_fill=True)\n",
      " |  \n",
      " |  set_has_font(self, has_font=True)\n",
      " |  \n",
      " |  set_hidden(self, hidden=True)\n",
      " |      Set the Format hidden property.\n",
      " |      \n",
      " |      Args:\n",
      " |          hidden: Default is True, turns property on.\n",
      " |      \n",
      " |      Returns:\n",
      " |          Nothing.\n",
      " |  \n",
      " |  set_hyperlink(self, hyperlink=True)\n",
      " |  \n",
      " |  set_indent(self, indent=1)\n",
      " |      Set the Format indent property.\n",
      " |      \n",
      " |      Args:\n",
      " |          indent: Default is 1, first indentation level.\n",
      " |      \n",
      " |      Returns:\n",
      " |          Nothing.\n",
      " |  \n",
      " |  set_italic(self, italic=True)\n",
      " |      Set the Format italic property.\n",
      " |      \n",
      " |      Args:\n",
      " |          italic: Default is True, turns property on.\n",
      " |      \n",
      " |      Returns:\n",
      " |          Nothing.\n",
      " |  \n",
      " |  set_left(self, left=1)\n",
      " |      Set the Format left property.\n",
      " |      \n",
      " |      Args:\n",
      " |          left: Default is 1, border type 1.\n",
      " |      \n",
      " |      Returns:\n",
      " |          Nothing.\n",
      " |  \n",
      " |  set_left_color(self, left_color)\n",
      " |      Set the Format left_color property.\n",
      " |      \n",
      " |      Args:\n",
      " |          left_color: Color string. No default.\n",
      " |      \n",
      " |      Returns:\n",
      " |          Nothing.\n",
      " |  \n",
      " |  set_locked(self, locked=True)\n",
      " |      Set the Format locked property.\n",
      " |      \n",
      " |      Args:\n",
      " |          locked: Default is True, turns property on.\n",
      " |      \n",
      " |      Returns:\n",
      " |          Nothing.\n",
      " |  \n",
      " |  set_num_format(self, num_format)\n",
      " |      Set the Format num_format property such as '#,##0'.\n",
      " |      \n",
      " |      Args:\n",
      " |          num_format: String representing the number format. No default.\n",
      " |      \n",
      " |      Returns:\n",
      " |          Nothing.\n",
      " |  \n",
      " |  set_num_format_index(self, num_format_index)\n",
      " |  \n",
      " |  set_pattern(self, pattern=1)\n",
      " |      Set the Format pattern property.\n",
      " |      \n",
      " |      Args:\n",
      " |          pattern: Default is 1, solid fill.\n",
      " |      \n",
      " |      Returns:\n",
      " |          Nothing.\n",
      " |  \n",
      " |  set_reading_order(self, direction=0)\n",
      " |  \n",
      " |  set_right(self, right=1)\n",
      " |      Set the Format right property.\n",
      " |      \n",
      " |      Args:\n",
      " |          right: Default is 1, border type 1.\n",
      " |      \n",
      " |      Returns:\n",
      " |          Nothing.\n",
      " |  \n",
      " |  set_right_color(self, right_color)\n",
      " |      Set the Format right_color property.\n",
      " |      \n",
      " |      Args:\n",
      " |          right_color: Color string. No default.\n",
      " |      \n",
      " |      Returns:\n",
      " |          Nothing.\n",
      " |  \n",
      " |  set_rotation(self, rotation)\n",
      " |      Set the Format rotation property.\n",
      " |      \n",
      " |      Args:\n",
      " |          rotation: Rotation angle. No default.\n",
      " |      \n",
      " |      Returns:\n",
      " |          Nothing.\n",
      " |  \n",
      " |  set_shrink(self, shrink=True)\n",
      " |      Set the Format shrink property.\n",
      " |      \n",
      " |      Args:\n",
      " |          shrink: Default is True, turns property on.\n",
      " |      \n",
      " |      Returns:\n",
      " |          Nothing.\n",
      " |  \n",
      " |  set_size(self, font_size)\n",
      " |  \n",
      " |  set_text_h_align(self, text_h_align)\n",
      " |  \n",
      " |  set_text_justlast(self, text_justlast=True)\n",
      " |      Set the Format text_justlast property.\n",
      " |      \n",
      " |      Args:\n",
      " |          text_justlast: Default is True, turns property on.\n",
      " |      \n",
      " |      Returns:\n",
      " |          Nothing.\n",
      " |  \n",
      " |  set_text_v_align(self, text_v_align)\n",
      " |  \n",
      " |  set_text_wrap(self, text_wrap=True)\n",
      " |      Set the Format text_wrap property.\n",
      " |      \n",
      " |      Args:\n",
      " |          text_wrap: Default is True, turns property on.\n",
      " |      \n",
      " |      Returns:\n",
      " |          Nothing.\n",
      " |  \n",
      " |  set_theme(self, theme)\n",
      " |  \n",
      " |  set_top(self, top=1)\n",
      " |      Set the Format top property.\n",
      " |      \n",
      " |      Args:\n",
      " |          top: Default is 1, border type 1.\n",
      " |      \n",
      " |      Returns:\n",
      " |          Nothing.\n",
      " |  \n",
      " |  set_top_color(self, top_color)\n",
      " |      Set the Format top_color property.\n",
      " |      \n",
      " |      Args:\n",
      " |          top_color: Color string. No default.\n",
      " |      \n",
      " |      Returns:\n",
      " |          Nothing.\n",
      " |  \n",
      " |  set_underline(self, underline=1)\n",
      " |      Set the Format underline property.\n",
      " |      \n",
      " |      Args:\n",
      " |          underline: Default is 1, single underline.\n",
      " |      \n",
      " |      Returns:\n",
      " |          Nothing.\n",
      " |  \n",
      " |  set_valign(self, align)\n",
      " |  \n",
      " |  set_xf_index(self, xf_index)\n",
      " |  \n",
      " |  ----------------------------------------------------------------------\n",
      " |  Data descriptors inherited from xlsxwriter.xmlwriter.XMLwriter:\n",
      " |  \n",
      " |  __dict__\n",
      " |      dictionary for instance variables (if defined)\n",
      " |  \n",
      " |  __weakref__\n",
      " |      list of weak references to the object (if defined)\n",
      "\n"
     ]
    }
   ],
   "source": [
    "help (your_workbook.formats[0])"
   ]
  },
  {
   "cell_type": "markdown",
   "metadata": {},
   "source": [
    "## How to Visualize your Dataset with XlsxWriter."
   ]
  },
  {
   "cell_type": "code",
   "execution_count": 21,
   "metadata": {},
   "outputs": [],
   "source": [
    "import xlsxwriter \n",
    "\n",
    "workbook= xlsxwriter.Workbook('hello_viz_xlwt.xlsx')\n",
    "worksheet = workbook.add_worksheet()\n",
    "\n",
    "headings = ['Countries', 'State_no']\n",
    "\n",
    "Data = [['Benin', 'Burkina Faso', 'Cape Verde', 'Gambia', 'Ghana', 'Guinea', 'Guinea-Bissau', 'Ivory Coast', \n",
    "         'Liberia', 'Mali', 'Mauritania', 'Niger', 'Nigeria', 'Senegal', 'Sierra Leone', 'Togo'],\n",
    "        [10, 14, 24, 17, 16, 3, 19, 15, 9, 9, 8, 36, 14, 4, 5, 3]]\n"
   ]
  },
  {
   "cell_type": "code",
   "execution_count": 22,
   "metadata": {},
   "outputs": [
    {
     "data": {
      "text/plain": [
       "0"
      ]
     },
     "execution_count": 22,
     "metadata": {},
     "output_type": "execute_result"
    }
   ],
   "source": [
    "worksheet.write_row('A1', headings) #Write a row of data starting from A1 for our heading \n",
    "\n",
    "# Write a column of data starting from A2, B2, C2 respectively.\n",
    "worksheet.write_column('A2', Data[0])\n",
    "worksheet.write_column('B2', Data[1])"
   ]
  },
  {
   "cell_type": "code",
   "execution_count": 23,
   "metadata": {},
   "outputs": [],
   "source": [
    "chart1 = workbook.add_chart({'type': 'pie'})\n",
    "\n",
    "# Add our data series to our chart\n",
    "chart1.add_series({\n",
    "    'name':'Number of States/Regions',\n",
    "     'categories':['Sheet1', 1,0,16,0],\n",
    "     'values':['Sheet1', 1,1,16,1],\n",
    " })\n",
    "\n",
    "chart1.set_title({'name':'Number of States/Regions'}) #Chart title\n",
    "chart1.set_style(10) #Chart style\n",
    "worksheet.insert_chart('C2', chart1, {'x_offset':25, 'y_offset':10}) #insert chart to cell C2\n",
    "\n",
    "workbook.close()"
   ]
  },
  {
   "cell_type": "code",
   "execution_count": null,
   "metadata": {},
   "outputs": [],
   "source": []
  }
 ],
 "metadata": {
  "kernelspec": {
   "display_name": "Python 3",
   "language": "python",
   "name": "python3"
  },
  "language_info": {
   "codemirror_mode": {
    "name": "ipython",
    "version": 3
   },
   "file_extension": ".py",
   "mimetype": "text/x-python",
   "name": "python",
   "nbconvert_exporter": "python",
   "pygments_lexer": "ipython3",
   "version": "3.8.5"
  }
 },
 "nbformat": 4,
 "nbformat_minor": 4
}
