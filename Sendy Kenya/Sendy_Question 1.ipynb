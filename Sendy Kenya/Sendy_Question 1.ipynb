{
 "cells": [
  {
   "cell_type": "markdown",
   "metadata": {},
   "source": [
    "#### Background\n",
    "\n",
    " ***   \n",
    " Sendy is the delivery partner for moving packages in Kenya. Sendy provides an app and web platform that enables (small) businesses to connect with drivers and request ondemand or scheduled package delivery services anytime, any day, 24/7. Partnership is the foundation of what we do. \n",
    "By partnering with Drivers and Businesses, we empower individuals to grow their livelihood. We do this by building a platform that is simple, transparent, and user Centric. Our goal is to be the preferred delivery partner in Africa.\n",
    " ***   "
   ]
  },
  {
   "cell_type": "code",
   "execution_count": 1,
   "metadata": {},
   "outputs": [],
   "source": [
    "import numpy as np \n",
    "import pandas as pd\n",
    "import matplotlib.pyplot as plt\n",
    "import seaborn as sns"
   ]
  },
  {
   "cell_type": "code",
   "execution_count": 2,
   "metadata": {},
   "outputs": [
    {
     "data": {
      "text/html": [
       "<div>\n",
       "<style scoped>\n",
       "    .dataframe tbody tr th:only-of-type {\n",
       "        vertical-align: middle;\n",
       "    }\n",
       "\n",
       "    .dataframe tbody tr th {\n",
       "        vertical-align: top;\n",
       "    }\n",
       "\n",
       "    .dataframe thead th {\n",
       "        text-align: right;\n",
       "    }\n",
       "</style>\n",
       "<table border=\"1\" class=\"dataframe\">\n",
       "  <thead>\n",
       "    <tr style=\"text-align: right;\">\n",
       "      <th></th>\n",
       "      <th>S/N</th>\n",
       "      <th>Personal or Business</th>\n",
       "      <th>Business Number</th>\n",
       "      <th>Vehicle Type</th>\n",
       "      <th>Standard or Express</th>\n",
       "      <th>Platform</th>\n",
       "      <th>Cancel Reason</th>\n",
       "      <th>Cancelled by</th>\n",
       "      <th>Placement Day</th>\n",
       "      <th>Placement Time</th>\n",
       "      <th>Placement time t</th>\n",
       "      <th>Confirmation Day</th>\n",
       "      <th>confirmation Time2</th>\n",
       "      <th>Cancellation Day</th>\n",
       "      <th>cancellation Time T</th>\n",
       "      <th>Cancellation Time</th>\n",
       "      <th>Distance (KM)</th>\n",
       "      <th>Pickup Lat</th>\n",
       "      <th>Pickup Long</th>\n",
       "      <th>scheduled</th>\n",
       "    </tr>\n",
       "  </thead>\n",
       "  <tbody>\n",
       "    <tr>\n",
       "      <th>0</th>\n",
       "      <td>1</td>\n",
       "      <td>Personal</td>\n",
       "      <td>NaN</td>\n",
       "      <td>Bike</td>\n",
       "      <td>Express</td>\n",
       "      <td>android</td>\n",
       "      <td>No driver has been allocated to my request.</td>\n",
       "      <td>Customer</td>\n",
       "      <td>Monday</td>\n",
       "      <td>5:55PM</td>\n",
       "      <td>17</td>\n",
       "      <td>NaN</td>\n",
       "      <td>NaN</td>\n",
       "      <td>Monday</td>\n",
       "      <td>17</td>\n",
       "      <td>5:56PM</td>\n",
       "      <td>9</td>\n",
       "      <td>-1.313053</td>\n",
       "      <td>36.841437</td>\n",
       "      <td>OnDemAND</td>\n",
       "    </tr>\n",
       "    <tr>\n",
       "      <th>1</th>\n",
       "      <td>2</td>\n",
       "      <td>Personal</td>\n",
       "      <td>NaN</td>\n",
       "      <td>Bike</td>\n",
       "      <td>Express</td>\n",
       "      <td>android</td>\n",
       "      <td>My order is not ready.</td>\n",
       "      <td>Customer</td>\n",
       "      <td>Monday</td>\n",
       "      <td>12:26PM</td>\n",
       "      <td>12</td>\n",
       "      <td>Monday</td>\n",
       "      <td>12:27PM</td>\n",
       "      <td>Monday</td>\n",
       "      <td>12</td>\n",
       "      <td>12:28PM</td>\n",
       "      <td>14</td>\n",
       "      <td>-1.318959</td>\n",
       "      <td>36.853394</td>\n",
       "      <td>OnDemAND</td>\n",
       "    </tr>\n",
       "    <tr>\n",
       "      <th>2</th>\n",
       "      <td>3</td>\n",
       "      <td>Business</td>\n",
       "      <td>20680.0</td>\n",
       "      <td>Bike</td>\n",
       "      <td>Express</td>\n",
       "      <td>android</td>\n",
       "      <td>I placed the wrong locations.</td>\n",
       "      <td>Customer</td>\n",
       "      <td>Monday</td>\n",
       "      <td>1:21PM</td>\n",
       "      <td>13</td>\n",
       "      <td>Monday</td>\n",
       "      <td>1:21PM</td>\n",
       "      <td>Monday</td>\n",
       "      <td>13</td>\n",
       "      <td>1:47PM</td>\n",
       "      <td>16</td>\n",
       "      <td>-1.313854</td>\n",
       "      <td>36.706867</td>\n",
       "      <td>OnDemAND</td>\n",
       "    </tr>\n",
       "    <tr>\n",
       "      <th>3</th>\n",
       "      <td>4</td>\n",
       "      <td>Personal</td>\n",
       "      <td>NaN</td>\n",
       "      <td>Bike</td>\n",
       "      <td>Express</td>\n",
       "      <td>android</td>\n",
       "      <td>My order is not ready.</td>\n",
       "      <td>Customer</td>\n",
       "      <td>Monday</td>\n",
       "      <td>10:29AM</td>\n",
       "      <td>10</td>\n",
       "      <td>NaN</td>\n",
       "      <td>NaN</td>\n",
       "      <td>Monday</td>\n",
       "      <td>10</td>\n",
       "      <td>10:29AM</td>\n",
       "      <td>20</td>\n",
       "      <td>-1.206197</td>\n",
       "      <td>36.778776</td>\n",
       "      <td>OnDemAND</td>\n",
       "    </tr>\n",
       "    <tr>\n",
       "      <th>4</th>\n",
       "      <td>5</td>\n",
       "      <td>Personal</td>\n",
       "      <td>NaN</td>\n",
       "      <td>Bike</td>\n",
       "      <td>Standard</td>\n",
       "      <td>ios</td>\n",
       "      <td>No Partner</td>\n",
       "      <td>Staff</td>\n",
       "      <td>Monday</td>\n",
       "      <td>2:34PM</td>\n",
       "      <td>14</td>\n",
       "      <td>Monday</td>\n",
       "      <td>2:59PM</td>\n",
       "      <td>Monday</td>\n",
       "      <td>15</td>\n",
       "      <td>3:49PM</td>\n",
       "      <td>11</td>\n",
       "      <td>-1.296958</td>\n",
       "      <td>36.808166</td>\n",
       "      <td>OnDemAND</td>\n",
       "    </tr>\n",
       "  </tbody>\n",
       "</table>\n",
       "</div>"
      ],
      "text/plain": [
       "   S/N Personal or Business  Business Number Vehicle Type Standard or Express  \\\n",
       "0    1             Personal              NaN         Bike             Express   \n",
       "1    2             Personal              NaN         Bike             Express   \n",
       "2    3             Business          20680.0         Bike             Express   \n",
       "3    4             Personal              NaN         Bike             Express   \n",
       "4    5             Personal              NaN         Bike            Standard   \n",
       "\n",
       "  Platform                                Cancel Reason Cancelled by  \\\n",
       "0  android  No driver has been allocated to my request.     Customer   \n",
       "1  android                       My order is not ready.     Customer   \n",
       "2  android                I placed the wrong locations.     Customer   \n",
       "3  android                       My order is not ready.     Customer   \n",
       "4      ios                                   No Partner        Staff   \n",
       "\n",
       "  Placement Day Placement Time  Placement time t Confirmation Day  \\\n",
       "0        Monday         5:55PM                17              NaN   \n",
       "1        Monday        12:26PM                12           Monday   \n",
       "2        Monday         1:21PM                13           Monday   \n",
       "3        Monday        10:29AM                10              NaN   \n",
       "4        Monday         2:34PM                14           Monday   \n",
       "\n",
       "  confirmation Time2 Cancellation Day  cancellation Time T Cancellation Time  \\\n",
       "0                NaN           Monday                   17            5:56PM   \n",
       "1            12:27PM           Monday                   12           12:28PM   \n",
       "2             1:21PM           Monday                   13            1:47PM   \n",
       "3                NaN           Monday                   10           10:29AM   \n",
       "4             2:59PM           Monday                   15            3:49PM   \n",
       "\n",
       "   Distance (KM)  Pickup Lat  Pickup Long scheduled  \n",
       "0              9   -1.313053    36.841437  OnDemAND  \n",
       "1             14   -1.318959    36.853394  OnDemAND  \n",
       "2             16   -1.313854    36.706867  OnDemAND  \n",
       "3             20   -1.206197    36.778776  OnDemAND  \n",
       "4             11   -1.296958    36.808166  OnDemAND  "
      ]
     },
     "execution_count": 2,
     "metadata": {},
     "output_type": "execute_result"
    }
   ],
   "source": [
    "df = pd.read_excel(\"Case Study.xlsx\", sheet_name =\"Querry resultt\")\n",
    "df.head()"
   ]
  },
  {
   "cell_type": "code",
   "execution_count": 3,
   "metadata": {},
   "outputs": [],
   "source": [
    "#df.describe()"
   ]
  },
  {
   "cell_type": "code",
   "execution_count": 4,
   "metadata": {},
   "outputs": [],
   "source": [
    "#df.dtypes"
   ]
  },
  {
   "cell_type": "markdown",
   "metadata": {},
   "source": [
    " ***   \n",
    " #### Question: \n",
    "Analyse the order cancellations and visualize the most important aspects using your preferred method. Document your steps if needed. Furthermore, recommend how to reduce the number of cancelled orders. \n",
    " ***   "
   ]
  },
  {
   "cell_type": "code",
   "execution_count": 5,
   "metadata": {},
   "outputs": [
    {
     "data": {
      "text/plain": [
       "Customer    4697\n",
       "Staff       1701\n",
       "Name: Cancelled by, dtype: int64"
      ]
     },
     "execution_count": 5,
     "metadata": {},
     "output_type": "execute_result"
    }
   ],
   "source": [
    "df[\"Cancelled by\"].value_counts()"
   ]
  },
  {
   "cell_type": "code",
   "execution_count": 6,
   "metadata": {
    "scrolled": true
   },
   "outputs": [
    {
     "data": {
      "image/png": "[encoded data removed]",
      "text/plain": [
       "<Figure size 360x288 with 1 Axes>"
      ]
     },
     "metadata": {
      "needs_background": "light"
     },
     "output_type": "display_data"
    }
   ],
   "source": [
    "figure,ax=plt.subplots(figsize=(5,4))\n",
    "\n",
    "sns.countplot(x='Cancelled by',data=df,ax=ax)\n",
    "ax.set_title('Cancelled by')\n",
    "\n",
    "plt.tight_layout()"
   ]
  },
  {
   "cell_type": "markdown",
   "metadata": {},
   "source": [
    "#### Observation; \n",
    "Orders are cancelled more by Customers"
   ]
  },
  {
   "cell_type": "code",
   "execution_count": 7,
   "metadata": {},
   "outputs": [
    {
     "data": {
      "text/plain": [
       "No driver has been allocated to my request.    1775\n",
       "No Partner                                     1293\n",
       "My order is not ready.                         1214\n",
       "I placed the wrong locations.                  1114\n",
       "The driver is too far away.                     594\n",
       "Customer error                                  337\n",
       "Delay                                            71\n",
       "Name: Cancel Reason, dtype: int64"
      ]
     },
     "execution_count": 7,
     "metadata": {},
     "output_type": "execute_result"
    }
   ],
   "source": [
    "df[\"Cancel Reason\"].value_counts()"
   ]
  },
  {
   "cell_type": "code",
   "execution_count": 8,
   "metadata": {},
   "outputs": [
    {
     "data": {
      "image/png": "[encoded data removed]",
      "text/plain": [
       "<Figure size 1440x720 with 1 Axes>"
      ]
     },
     "metadata": {
      "needs_background": "light"
     },
     "output_type": "display_data"
    }
   ],
   "source": [
    "figure,ax=plt.subplots(figsize=(20,10))\n",
    "\n",
    "sns.countplot(x='Cancel Reason',data=df,ax=ax)\n",
    "ax.set_title('What are the Cancel Reason')\n",
    "\n",
    "plt.tight_layout()"
   ]
  },
  {
   "cell_type": "markdown",
   "metadata": {},
   "source": [
    "#### Observation;\n",
    "\"No driver has been allocated to my request\",\"No Partner\" and, \"My order is not ready\" are the top 3 reasons for cancellation. Hypothesis: This could be due to the availability of drivers on the app.\n",
    "\n",
    "These are followed by \"I placed the wrong locations\", \"The driver is too far away\", \"Customer error\" and, \"Delay\". \n",
    "Hypothesis: The number of drivers to passeneger ratio should be looked at."
   ]
  },
  {
   "cell_type": "code",
   "execution_count": 9,
   "metadata": {},
   "outputs": [
    {
     "data": {
      "text/plain": [
       "Friday       1308\n",
       "Thursday     1188\n",
       "Wednesday    1056\n",
       "Tuesday      1045\n",
       "Monday        832\n",
       "Saturday      661\n",
       "Sunday        308\n",
       "Name: Cancellation Day, dtype: int64"
      ]
     },
     "execution_count": 9,
     "metadata": {},
     "output_type": "execute_result"
    }
   ],
   "source": [
    "df[\"Cancellation Day\"].value_counts()"
   ]
  },
  {
   "cell_type": "code",
   "execution_count": 10,
   "metadata": {},
   "outputs": [
    {
     "data": {
      "image/png": "[encoded data removed]",
      "text/plain": [
       "<Figure size 576x360 with 1 Axes>"
      ]
     },
     "metadata": {
      "needs_background": "light"
     },
     "output_type": "display_data"
    }
   ],
   "source": [
    "figure,ax=plt.subplots(figsize=(8,5))\n",
    "\n",
    "sns.countplot(x='Cancellation Day',data=df,ax=ax)\n",
    "ax.set_title('Cancellation Day')\n",
    "\n",
    "plt.tight_layout()"
   ]
  },
  {
   "cell_type": "markdown",
   "metadata": {},
   "source": [
    "#### Observation; \n",
    "The most cancellation day is Friday followed closely by Thursday, wednesday and Tuesday"
   ]
  },
  {
   "cell_type": "code",
   "execution_count": 11,
   "metadata": {},
   "outputs": [
    {
     "data": {
      "image/png": "[encoded data removed]",
      "text/plain": [
       "<Figure size 576x360 with 1 Axes>"
      ]
     },
     "metadata": {
      "needs_background": "light"
     },
     "output_type": "display_data"
    }
   ],
   "source": [
    "figure,ax=plt.subplots(figsize=(8,5))\n",
    "\n",
    "sns.countplot(x='cancellation Time T',data=df,ax=ax)\n",
    "ax.set_title('cancellation Time T')\n",
    "\n",
    "plt.tight_layout()"
   ]
  },
  {
   "cell_type": "markdown",
   "metadata": {},
   "source": [
    "#### Observation; \n",
    "The most cancellation Time by hours is 3pm followed by 4pm. \n",
    "However Cancellation generally picks from 10am to 5pm"
   ]
  },
  {
   "cell_type": "code",
   "execution_count": 12,
   "metadata": {},
   "outputs": [],
   "source": [
    "df_Friday = df[df[\"Cancellation Day\"]==\"Friday\"].reset_index(drop=True)"
   ]
  },
  {
   "cell_type": "code",
   "execution_count": 13,
   "metadata": {},
   "outputs": [
    {
     "data": {
      "image/png": "[encoded data removed]",
      "text/plain": [
       "<Figure size 576x360 with 1 Axes>"
      ]
     },
     "metadata": {
      "needs_background": "light"
     },
     "output_type": "display_data"
    }
   ],
   "source": [
    "figure,ax=plt.subplots(figsize=(8,5))\n",
    "\n",
    "sns.countplot(x='cancellation Time T',data=df_Friday,ax=ax)\n",
    "ax.set_title('cancellation Time T')\n",
    "\n",
    "plt.tight_layout()"
   ]
  },
  {
   "cell_type": "code",
   "execution_count": 14,
   "metadata": {},
   "outputs": [
    {
     "data": {
      "text/plain": [
       "No driver has been allocated to my request.    360\n",
       "No Partner                                     271\n",
       "My order is not ready.                         223\n",
       "I placed the wrong locations.                  222\n",
       "Customer error                                 111\n",
       "The driver is too far away.                    104\n",
       "Delay                                           17\n",
       "Name: Cancel Reason, dtype: int64"
      ]
     },
     "execution_count": 14,
     "metadata": {},
     "output_type": "execute_result"
    }
   ],
   "source": [
    "df_Friday[\"Cancel Reason\"].value_counts()"
   ]
  },
  {
   "cell_type": "markdown",
   "metadata": {},
   "source": [
    "#### Observation; \n",
    "We noticed Friday had the most cancelled day; hence i decided to explore it.\n",
    "The most cancellation Time by hours on friday is 4pm followed by 3pm. \n",
    "However from an 100 count, Cancellation generally picks from 11am to 5pm\n",
    "\n",
    "for the reasons on friday, \"No driver has been allocated to my request\", \"No Partner\" and \"My order is not ready\" are the top 3 reason."
   ]
  },
  {
   "cell_type": "code",
   "execution_count": 15,
   "metadata": {},
   "outputs": [],
   "source": [
    "df_Thursday = df[df[\"Cancellation Day\"]==\"Thursday\"].reset_index(drop=True)"
   ]
  },
  {
   "cell_type": "code",
   "execution_count": 16,
   "metadata": {},
   "outputs": [
    {
     "data": {
      "image/png": "[encoded data removed]",
      "text/plain": [
       "<Figure size 576x360 with 1 Axes>"
      ]
     },
     "metadata": {
      "needs_background": "light"
     },
     "output_type": "display_data"
    }
   ],
   "source": [
    "figure,ax=plt.subplots(figsize=(8,5))\n",
    "\n",
    "sns.countplot(x='cancellation Time T',data=df_Thursday,ax=ax)\n",
    "ax.set_title('cancellation Time T')\n",
    "\n",
    "plt.tight_layout()"
   ]
  },
  {
   "cell_type": "code",
   "execution_count": 17,
   "metadata": {},
   "outputs": [
    {
     "data": {
      "text/plain": [
       "No driver has been allocated to my request.    293\n",
       "No Partner                                     243\n",
       "I placed the wrong locations.                  231\n",
       "My order is not ready.                         229\n",
       "The driver is too far away.                    120\n",
       "Customer error                                  63\n",
       "Delay                                            9\n",
       "Name: Cancel Reason, dtype: int64"
      ]
     },
     "execution_count": 17,
     "metadata": {},
     "output_type": "execute_result"
    }
   ],
   "source": [
    "df_Thursday[\"Cancel Reason\"].value_counts()"
   ]
  },
  {
   "cell_type": "markdown",
   "metadata": {},
   "source": [
    "#### Observation; \n",
    "We noticed Thurdsday was the next most cancelled day right after Friday; hence i decided to explore it.\n",
    "The most cancellation Time by hours on Thursday is 12pm followed by 1pm. \n",
    "However from an 100 count, Cancellation generally picks from 10am to 4pm\n",
    "\n",
    "for the reasons on friday, \"No driver has been allocated to my request\", \"No Partner\" and \"I placed the wrong locations.\" are the top 3 reason."
   ]
  },
  {
   "cell_type": "markdown",
   "metadata": {},
   "source": [
    "#### Looking back at the cancelled reason "
   ]
  },
  {
   "cell_type": "code",
   "execution_count": 18,
   "metadata": {},
   "outputs": [
    {
     "data": {
      "text/html": [
       "<div>\n",
       "<style scoped>\n",
       "    .dataframe tbody tr th:only-of-type {\n",
       "        vertical-align: middle;\n",
       "    }\n",
       "\n",
       "    .dataframe tbody tr th {\n",
       "        vertical-align: top;\n",
       "    }\n",
       "\n",
       "    .dataframe thead th {\n",
       "        text-align: right;\n",
       "    }\n",
       "</style>\n",
       "<table border=\"1\" class=\"dataframe\">\n",
       "  <thead>\n",
       "    <tr style=\"text-align: right;\">\n",
       "      <th></th>\n",
       "      <th></th>\n",
       "      <th>S/N</th>\n",
       "    </tr>\n",
       "    <tr>\n",
       "      <th>Cancelled by</th>\n",
       "      <th>Cancel Reason</th>\n",
       "      <th></th>\n",
       "    </tr>\n",
       "  </thead>\n",
       "  <tbody>\n",
       "    <tr>\n",
       "      <th rowspan=\"4\" valign=\"top\">Customer</th>\n",
       "      <th>I placed the wrong locations.</th>\n",
       "      <td>1114</td>\n",
       "    </tr>\n",
       "    <tr>\n",
       "      <th>My order is not ready.</th>\n",
       "      <td>1214</td>\n",
       "    </tr>\n",
       "    <tr>\n",
       "      <th>No driver has been allocated to my request.</th>\n",
       "      <td>1775</td>\n",
       "    </tr>\n",
       "    <tr>\n",
       "      <th>The driver is too far away.</th>\n",
       "      <td>594</td>\n",
       "    </tr>\n",
       "    <tr>\n",
       "      <th rowspan=\"3\" valign=\"top\">Staff</th>\n",
       "      <th>Customer error</th>\n",
       "      <td>337</td>\n",
       "    </tr>\n",
       "    <tr>\n",
       "      <th>Delay</th>\n",
       "      <td>71</td>\n",
       "    </tr>\n",
       "    <tr>\n",
       "      <th>No Partner</th>\n",
       "      <td>1293</td>\n",
       "    </tr>\n",
       "  </tbody>\n",
       "</table>\n",
       "</div>"
      ],
      "text/plain": [
       "                                                           S/N\n",
       "Cancelled by Cancel Reason                                    \n",
       "Customer     I placed the wrong locations.                1114\n",
       "             My order is not ready.                       1214\n",
       "             No driver has been allocated to my request.  1775\n",
       "             The driver is too far away.                   594\n",
       "Staff        Customer error                                337\n",
       "             Delay                                          71\n",
       "             No Partner                                   1293"
      ]
     },
     "execution_count": 18,
     "metadata": {},
     "output_type": "execute_result"
    }
   ],
   "source": [
    "pd.pivot_table(df,index=['Cancelled by','Cancel Reason'], values =['S/N'], aggfunc=lambda x: len(x.unique()))"
   ]
  },
  {
   "cell_type": "markdown",
   "metadata": {},
   "source": [
    "#### Observation;\n",
    "\"No driver has been allocated to my request\",\"No Partner\", \"I placed the wrong locations\" and, \"My order is not ready\" are the top 4 reasons for cancellation. \n",
    "\n",
    "Looking at this;    \n",
    "1. **By customers;** \"No driver has been allocated to my request\", \"I placed the wrong locations\" and, \"My order is not ready\" are the top 3 reasons for cancellation. \n",
    "\n",
    "**Hypothesis:** \n",
    "* The app do not have enough drivers to handle its customer ratio. This is seen in the \"The driver is too far away\"\n",
    "* The \"I placed the wrong locations\" could be due to the UI and UX of the app.\n",
    " ***        \n",
    "2. **By Staff;** When we looked at the \"No Partner\" and \"Customer error\"\n",
    "\n",
    "**Hypothesis:**\n",
    "* \"Customer error\" is related to the \"I placed the wrong locations\"\n",
    "* \"No partner\" on the other hand could be a result of potential or customers ditchingthe app for other servies. \n",
    "***      \n",
    "**Suggestion:** \n",
    "* We need more drivers on board.\n",
    "* The UI/UX should be looked into.\n",
    "***   "
   ]
  },
  {
   "cell_type": "code",
   "execution_count": null,
   "metadata": {},
   "outputs": [],
   "source": []
  }
 ],
 "metadata": {
  "kernelspec": {
   "display_name": "Python 3",
   "language": "python",
   "name": "python3"
  },
  "language_info": {
   "codemirror_mode": {
    "name": "ipython",
    "version": 3
   },
   "file_extension": ".py",
   "mimetype": "text/x-python",
   "name": "python",
   "nbconvert_exporter": "python",
   "pygments_lexer": "ipython3",
   "version": "3.7.6"
  }
 },
 "nbformat": 4,
 "nbformat_minor": 4
}
