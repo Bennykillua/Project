{
 "cells": [
  {
   "cell_type": "markdown",
   "metadata": {},
   "source": [
    "#### Background\n",
    "\n",
    " ***   \n",
    " Sendy is the delivery partner for moving packages in Kenya. Sendy provides an app and web platform that enables (small) businesses to connect with drivers and request ondemand or scheduled package delivery services anytime, any day, 24/7. Partnership is the foundation of what we do. \n",
    "By partnering with Drivers and Businesses, we empower individuals to grow their livelihood. We do this by building a platform that is simple, transparent, and user Centric. Our goal is to be the preferred delivery partner in Africa.\n",
    " ***   "
   ]
  },
  {
   "cell_type": "code",
   "execution_count": 1,
   "metadata": {},
   "outputs": [],
   "source": [
    "import numpy as np \n",
    "import pandas as pd\n",
    "import matplotlib.pyplot as plt\n",
    "import seaborn as sns"
   ]
  },
  {
   "cell_type": "code",
   "execution_count": 2,
   "metadata": {},
   "outputs": [
    {
     "data": {
      "text/html": [
       "<div>\n",
       "<style scoped>\n",
       "    .dataframe tbody tr th:only-of-type {\n",
       "        vertical-align: middle;\n",
       "    }\n",
       "\n",
       "    .dataframe tbody tr th {\n",
       "        vertical-align: top;\n",
       "    }\n",
       "\n",
       "    .dataframe thead th {\n",
       "        text-align: right;\n",
       "    }\n",
       "</style>\n",
       "<table border=\"1\" class=\"dataframe\">\n",
       "  <thead>\n",
       "    <tr style=\"text-align: right;\">\n",
       "      <th></th>\n",
       "      <th>Personal or Business</th>\n",
       "      <th>Business Number</th>\n",
       "      <th>Vehicle Type</th>\n",
       "      <th>Standard or Express</th>\n",
       "      <th>Platform</th>\n",
       "      <th>Cancel Reason</th>\n",
       "      <th>Cancelled by</th>\n",
       "      <th>Placement Day</th>\n",
       "      <th>Placement Time</th>\n",
       "      <th>Placement time t</th>\n",
       "      <th>Confirmation Day</th>\n",
       "      <th>confirmation Time2</th>\n",
       "      <th>Cancellation Day</th>\n",
       "      <th>cancellation Time T</th>\n",
       "      <th>Cancellation Time</th>\n",
       "      <th>Distance (KM)</th>\n",
       "      <th>Pickup Lat</th>\n",
       "      <th>Pickup Long</th>\n",
       "      <th>scheduled</th>\n",
       "    </tr>\n",
       "  </thead>\n",
       "  <tbody>\n",
       "    <tr>\n",
       "      <th>0</th>\n",
       "      <td>Personal</td>\n",
       "      <td>NaN</td>\n",
       "      <td>Bike</td>\n",
       "      <td>Express</td>\n",
       "      <td>android</td>\n",
       "      <td>No driver has been allocated to my request.</td>\n",
       "      <td>Customer</td>\n",
       "      <td>Monday</td>\n",
       "      <td>5:55PM</td>\n",
       "      <td>17</td>\n",
       "      <td>NaN</td>\n",
       "      <td>NaN</td>\n",
       "      <td>Monday</td>\n",
       "      <td>17</td>\n",
       "      <td>5:56PM</td>\n",
       "      <td>9</td>\n",
       "      <td>-1.313053</td>\n",
       "      <td>36.841437</td>\n",
       "      <td>OnDemAND</td>\n",
       "    </tr>\n",
       "    <tr>\n",
       "      <th>1</th>\n",
       "      <td>Personal</td>\n",
       "      <td>NaN</td>\n",
       "      <td>Bike</td>\n",
       "      <td>Express</td>\n",
       "      <td>android</td>\n",
       "      <td>My order is not ready.</td>\n",
       "      <td>Customer</td>\n",
       "      <td>Monday</td>\n",
       "      <td>12:26PM</td>\n",
       "      <td>12</td>\n",
       "      <td>Monday</td>\n",
       "      <td>12:27PM</td>\n",
       "      <td>Monday</td>\n",
       "      <td>12</td>\n",
       "      <td>12:28PM</td>\n",
       "      <td>14</td>\n",
       "      <td>-1.318959</td>\n",
       "      <td>36.853394</td>\n",
       "      <td>OnDemAND</td>\n",
       "    </tr>\n",
       "    <tr>\n",
       "      <th>2</th>\n",
       "      <td>Business</td>\n",
       "      <td>20680.0</td>\n",
       "      <td>Bike</td>\n",
       "      <td>Express</td>\n",
       "      <td>android</td>\n",
       "      <td>I placed the wrong locations.</td>\n",
       "      <td>Customer</td>\n",
       "      <td>Monday</td>\n",
       "      <td>1:21PM</td>\n",
       "      <td>13</td>\n",
       "      <td>Monday</td>\n",
       "      <td>1:21PM</td>\n",
       "      <td>Monday</td>\n",
       "      <td>13</td>\n",
       "      <td>1:47PM</td>\n",
       "      <td>16</td>\n",
       "      <td>-1.313854</td>\n",
       "      <td>36.706867</td>\n",
       "      <td>OnDemAND</td>\n",
       "    </tr>\n",
       "  </tbody>\n",
       "</table>\n",
       "</div>"
      ],
      "text/plain": [
       "  Personal or Business  Business Number Vehicle Type Standard or Express  \\\n",
       "0             Personal              NaN         Bike             Express   \n",
       "1             Personal              NaN         Bike             Express   \n",
       "2             Business          20680.0         Bike             Express   \n",
       "\n",
       "  Platform                                Cancel Reason Cancelled by  \\\n",
       "0  android  No driver has been allocated to my request.     Customer   \n",
       "1  android                       My order is not ready.     Customer   \n",
       "2  android                I placed the wrong locations.     Customer   \n",
       "\n",
       "  Placement Day Placement Time  Placement time t Confirmation Day  \\\n",
       "0        Monday         5:55PM                17              NaN   \n",
       "1        Monday        12:26PM                12           Monday   \n",
       "2        Monday         1:21PM                13           Monday   \n",
       "\n",
       "  confirmation Time2 Cancellation Day  cancellation Time T Cancellation Time  \\\n",
       "0                NaN           Monday                   17            5:56PM   \n",
       "1            12:27PM           Monday                   12           12:28PM   \n",
       "2             1:21PM           Monday                   13            1:47PM   \n",
       "\n",
       "   Distance (KM)  Pickup Lat  Pickup Long scheduled  \n",
       "0              9   -1.313053    36.841437  OnDemAND  \n",
       "1             14   -1.318959    36.853394  OnDemAND  \n",
       "2             16   -1.313854    36.706867  OnDemAND  "
      ]
     },
     "execution_count": 2,
     "metadata": {},
     "output_type": "execute_result"
    }
   ],
   "source": [
    "df = pd.read_excel(\"Junior Data Analyst Data for Case Study.xlsx\", sheet_name =\"Querry result\")\n",
    "df.head(3)"
   ]
  },
  {
   "cell_type": "code",
   "execution_count": 3,
   "metadata": {},
   "outputs": [
    {
     "data": {
      "text/plain": [
       "Personal or Business       0\n",
       "Business Number         3334\n",
       "Vehicle Type               0\n",
       "Standard or Express        5\n",
       "Platform                   0\n",
       "Cancel Reason              0\n",
       "Cancelled by               0\n",
       "Placement Day              0\n",
       "Placement Time             0\n",
       "Placement time t           0\n",
       "Confirmation Day        3516\n",
       "confirmation Time2      3516\n",
       "Cancellation Day           0\n",
       "cancellation Time T        0\n",
       "Cancellation Time          0\n",
       "Distance (KM)              0\n",
       "Pickup Lat                 0\n",
       "Pickup Long                0\n",
       "scheduled                  0\n",
       "dtype: int64"
      ]
     },
     "execution_count": 3,
     "metadata": {},
     "output_type": "execute_result"
    }
   ],
   "source": [
    "df.isna().sum()"
   ]
  },
  {
   "cell_type": "code",
   "execution_count": 4,
   "metadata": {},
   "outputs": [
    {
     "data": {
      "text/html": [
       "<div>\n",
       "<style scoped>\n",
       "    .dataframe tbody tr th:only-of-type {\n",
       "        vertical-align: middle;\n",
       "    }\n",
       "\n",
       "    .dataframe tbody tr th {\n",
       "        vertical-align: top;\n",
       "    }\n",
       "\n",
       "    .dataframe thead th {\n",
       "        text-align: right;\n",
       "    }\n",
       "</style>\n",
       "<table border=\"1\" class=\"dataframe\">\n",
       "  <thead>\n",
       "    <tr style=\"text-align: right;\">\n",
       "      <th></th>\n",
       "      <th>Personal or Business</th>\n",
       "      <th>Business Number</th>\n",
       "      <th>Vehicle Type</th>\n",
       "      <th>Standard or Express</th>\n",
       "      <th>Platform</th>\n",
       "      <th>Cancel Reason</th>\n",
       "      <th>Cancelled by</th>\n",
       "      <th>Placement Day</th>\n",
       "      <th>Placement Time</th>\n",
       "      <th>Confirmation Day</th>\n",
       "      <th>Confirmation Time</th>\n",
       "      <th>Cancellation Day</th>\n",
       "      <th>Cancellation Time</th>\n",
       "      <th>Distance (KM)</th>\n",
       "      <th>Pickup Lat</th>\n",
       "      <th>Pickup Long</th>\n",
       "      <th>scheduled</th>\n",
       "    </tr>\n",
       "  </thead>\n",
       "  <tbody>\n",
       "    <tr>\n",
       "      <th>0</th>\n",
       "      <td>Personal</td>\n",
       "      <td>NaN</td>\n",
       "      <td>Bike</td>\n",
       "      <td>Express</td>\n",
       "      <td>ios</td>\n",
       "      <td>NaN</td>\n",
       "      <td>Customer</td>\n",
       "      <td>1</td>\n",
       "      <td>15:23:44</td>\n",
       "      <td>1.0</td>\n",
       "      <td>16:40:47</td>\n",
       "      <td>1</td>\n",
       "      <td>16:43:50</td>\n",
       "      <td>4</td>\n",
       "      <td>-1.299370</td>\n",
       "      <td>36.822107</td>\n",
       "      <td>OnDemAND</td>\n",
       "    </tr>\n",
       "    <tr>\n",
       "      <th>1</th>\n",
       "      <td>Business</td>\n",
       "      <td>20680.0</td>\n",
       "      <td>Bike</td>\n",
       "      <td>Express</td>\n",
       "      <td>desktop</td>\n",
       "      <td>NaN</td>\n",
       "      <td>Staff</td>\n",
       "      <td>1</td>\n",
       "      <td>14:21:46</td>\n",
       "      <td>1.0</td>\n",
       "      <td>14:22:20</td>\n",
       "      <td>1</td>\n",
       "      <td>14:30:48</td>\n",
       "      <td>17</td>\n",
       "      <td>-1.264490</td>\n",
       "      <td>36.789303</td>\n",
       "      <td>OnDemAND</td>\n",
       "    </tr>\n",
       "    <tr>\n",
       "      <th>2</th>\n",
       "      <td>Business</td>\n",
       "      <td>17968.0</td>\n",
       "      <td>Bike</td>\n",
       "      <td>Express</td>\n",
       "      <td>desktop</td>\n",
       "      <td>NaN</td>\n",
       "      <td>Customer</td>\n",
       "      <td>1</td>\n",
       "      <td>15:13:20</td>\n",
       "      <td>NaN</td>\n",
       "      <td>NaN</td>\n",
       "      <td>1</td>\n",
       "      <td>15:56:34</td>\n",
       "      <td>18</td>\n",
       "      <td>-1.427056</td>\n",
       "      <td>36.961499</td>\n",
       "      <td>OnDemAND</td>\n",
       "    </tr>\n",
       "  </tbody>\n",
       "</table>\n",
       "</div>"
      ],
      "text/plain": [
       "  Personal or Business  Business Number Vehicle Type Standard or Express  \\\n",
       "0             Personal              NaN         Bike             Express   \n",
       "1             Business          20680.0         Bike             Express   \n",
       "2             Business          17968.0         Bike             Express   \n",
       "\n",
       "  Platform  Cancel Reason Cancelled by  Placement Day Placement Time  \\\n",
       "0      ios            NaN     Customer              1       15:23:44   \n",
       "1  desktop            NaN        Staff              1       14:21:46   \n",
       "2  desktop            NaN     Customer              1       15:13:20   \n",
       "\n",
       "   Confirmation Day Confirmation Time  Cancellation Day Cancellation Time  \\\n",
       "0               1.0          16:40:47                 1          16:43:50   \n",
       "1               1.0          14:22:20                 1          14:30:48   \n",
       "2               NaN               NaN                 1          15:56:34   \n",
       "\n",
       "   Distance (KM)  Pickup Lat  Pickup Long scheduled  \n",
       "0              4   -1.299370    36.822107  OnDemAND  \n",
       "1             17   -1.264490    36.789303  OnDemAND  \n",
       "2             18   -1.427056    36.961499  OnDemAND  "
      ]
     },
     "execution_count": 4,
     "metadata": {},
     "output_type": "execute_result"
    }
   ],
   "source": [
    "dft = pd.read_excel(\"Junior Data Analyst Data for Case Study.xlsx\", sheet_name =\"Missing Cancel Reason\")\n",
    "dft.head(3)"
   ]
  },
  {
   "cell_type": "code",
   "execution_count": 5,
   "metadata": {},
   "outputs": [
    {
     "data": {
      "text/plain": [
       "Personal or Business      0\n",
       "Business Number         169\n",
       "Vehicle Type              0\n",
       "Standard or Express       0\n",
       "Platform                  0\n",
       "Cancel Reason           329\n",
       "Cancelled by              0\n",
       "Placement Day             0\n",
       "Placement Time            0\n",
       "Confirmation Day        223\n",
       "Confirmation Time       223\n",
       "Cancellation Day          0\n",
       "Cancellation Time         0\n",
       "Distance (KM)             0\n",
       "Pickup Lat                0\n",
       "Pickup Long               0\n",
       "scheduled                 0\n",
       "dtype: int64"
      ]
     },
     "execution_count": 5,
     "metadata": {},
     "output_type": "execute_result"
    }
   ],
   "source": [
    "dft.isna().sum()"
   ]
  },
  {
   "cell_type": "markdown",
   "metadata": {},
   "source": [
    " ***   \n",
    " #### Question: \n",
    "Some of the data have been lost (read: we have deliberately deleted them from the data sheet). Please use the existing data set to “predict” the cancellation reason for all orders with missing data (Sheet 2). Please document your steps and method used.\n",
    " ***   "
   ]
  },
  {
   "cell_type": "markdown",
   "metadata": {},
   "source": [
    "#### dealing with Nan"
   ]
  },
  {
   "cell_type": "code",
   "execution_count": 6,
   "metadata": {},
   "outputs": [],
   "source": [
    "df = df.drop(['Confirmation Day', 'confirmation Time2'], axis =1)\n",
    "dft = dft.drop(['Confirmation Day','Confirmation Time'], axis =1)"
   ]
  },
  {
   "cell_type": "code",
   "execution_count": 7,
   "metadata": {},
   "outputs": [],
   "source": [
    "df['Standard or Express'] = df['Standard or Express'].fillna(df['Standard or Express'].mode().iloc[0])"
   ]
  },
  {
   "cell_type": "code",
   "execution_count": 8,
   "metadata": {},
   "outputs": [],
   "source": [
    "df['Standard or Express']=str(df['Standard or Express'])\n",
    "\n",
    "#Encoding the categorical feature. \n",
    "from sklearn.preprocessing import LabelEncoder\n",
    "encoder = LabelEncoder()\n",
    "df[['Personal or Business','Vehicle Type', 'Standard or Express', 'Platform', 'Cancel Reason', 'Cancelled by',\n",
    "    'Placement Day', 'Cancellation Day','scheduled']] = df[['Personal or Business','Vehicle Type', 'Standard or Express', 'Platform', 'Cancel Reason', 'Cancelled by',\n",
    "    'Placement Day','Cancellation Day','scheduled']].apply(encoder.fit_transform)"
   ]
  },
  {
   "cell_type": "code",
   "execution_count": 9,
   "metadata": {},
   "outputs": [],
   "source": [
    "dft[['Personal or Business','Vehicle Type', 'Standard or Express', 'Platform','Cancelled by','scheduled']] = df[['Personal or Business','Vehicle Type', 'Standard or Express', 'Platform','Cancelled by','scheduled']].apply(encoder.fit_transform)"
   ]
  },
  {
   "cell_type": "code",
   "execution_count": 10,
   "metadata": {},
   "outputs": [],
   "source": [
    "dft['cancellation Time T'] = pd.to_datetime(dft['Cancellation Time'], format='%H:%M:%S').dt.hour"
   ]
  },
  {
   "cell_type": "code",
   "execution_count": 11,
   "metadata": {},
   "outputs": [],
   "source": [
    "dft['Placement time t'] = pd.to_datetime(dft['Placement Time'], format='%H:%M:%S').dt.hour"
   ]
  },
  {
   "cell_type": "code",
   "execution_count": 12,
   "metadata": {},
   "outputs": [
    {
     "data": {
      "text/html": [
       "<div>\n",
       "<style scoped>\n",
       "    .dataframe tbody tr th:only-of-type {\n",
       "        vertical-align: middle;\n",
       "    }\n",
       "\n",
       "    .dataframe tbody tr th {\n",
       "        vertical-align: top;\n",
       "    }\n",
       "\n",
       "    .dataframe thead th {\n",
       "        text-align: right;\n",
       "    }\n",
       "</style>\n",
       "<table border=\"1\" class=\"dataframe\">\n",
       "  <thead>\n",
       "    <tr style=\"text-align: right;\">\n",
       "      <th></th>\n",
       "      <th>Personal or Business</th>\n",
       "      <th>Business Number</th>\n",
       "      <th>Vehicle Type</th>\n",
       "      <th>Standard or Express</th>\n",
       "      <th>Platform</th>\n",
       "      <th>Cancel Reason</th>\n",
       "      <th>Cancelled by</th>\n",
       "      <th>Placement Day</th>\n",
       "      <th>Placement Time</th>\n",
       "      <th>Placement time t</th>\n",
       "      <th>Cancellation Day</th>\n",
       "      <th>cancellation Time T</th>\n",
       "      <th>Cancellation Time</th>\n",
       "      <th>Distance (KM)</th>\n",
       "      <th>Pickup Lat</th>\n",
       "      <th>Pickup Long</th>\n",
       "      <th>scheduled</th>\n",
       "    </tr>\n",
       "  </thead>\n",
       "  <tbody>\n",
       "    <tr>\n",
       "      <th>0</th>\n",
       "      <td>1</td>\n",
       "      <td>NaN</td>\n",
       "      <td>0</td>\n",
       "      <td>0</td>\n",
       "      <td>1</td>\n",
       "      <td>5</td>\n",
       "      <td>0</td>\n",
       "      <td>1</td>\n",
       "      <td>5:55PM</td>\n",
       "      <td>17</td>\n",
       "      <td>1</td>\n",
       "      <td>17</td>\n",
       "      <td>5:56PM</td>\n",
       "      <td>9</td>\n",
       "      <td>-1.313053</td>\n",
       "      <td>36.841437</td>\n",
       "      <td>0</td>\n",
       "    </tr>\n",
       "    <tr>\n",
       "      <th>1</th>\n",
       "      <td>1</td>\n",
       "      <td>NaN</td>\n",
       "      <td>0</td>\n",
       "      <td>0</td>\n",
       "      <td>1</td>\n",
       "      <td>3</td>\n",
       "      <td>0</td>\n",
       "      <td>1</td>\n",
       "      <td>12:26PM</td>\n",
       "      <td>12</td>\n",
       "      <td>1</td>\n",
       "      <td>12</td>\n",
       "      <td>12:28PM</td>\n",
       "      <td>14</td>\n",
       "      <td>-1.318959</td>\n",
       "      <td>36.853394</td>\n",
       "      <td>0</td>\n",
       "    </tr>\n",
       "    <tr>\n",
       "      <th>2</th>\n",
       "      <td>0</td>\n",
       "      <td>20680.0</td>\n",
       "      <td>0</td>\n",
       "      <td>0</td>\n",
       "      <td>1</td>\n",
       "      <td>2</td>\n",
       "      <td>0</td>\n",
       "      <td>1</td>\n",
       "      <td>1:21PM</td>\n",
       "      <td>13</td>\n",
       "      <td>1</td>\n",
       "      <td>13</td>\n",
       "      <td>1:47PM</td>\n",
       "      <td>16</td>\n",
       "      <td>-1.313854</td>\n",
       "      <td>36.706867</td>\n",
       "      <td>0</td>\n",
       "    </tr>\n",
       "  </tbody>\n",
       "</table>\n",
       "</div>"
      ],
      "text/plain": [
       "   Personal or Business  Business Number  Vehicle Type  Standard or Express  \\\n",
       "0                     1              NaN             0                    0   \n",
       "1                     1              NaN             0                    0   \n",
       "2                     0          20680.0             0                    0   \n",
       "\n",
       "   Platform  Cancel Reason  Cancelled by  Placement Day Placement Time  \\\n",
       "0         1              5             0              1         5:55PM   \n",
       "1         1              3             0              1        12:26PM   \n",
       "2         1              2             0              1         1:21PM   \n",
       "\n",
       "   Placement time t  Cancellation Day  cancellation Time T Cancellation Time  \\\n",
       "0                17                 1                   17            5:56PM   \n",
       "1                12                 1                   12           12:28PM   \n",
       "2                13                 1                   13            1:47PM   \n",
       "\n",
       "   Distance (KM)  Pickup Lat  Pickup Long  scheduled  \n",
       "0              9   -1.313053    36.841437          0  \n",
       "1             14   -1.318959    36.853394          0  \n",
       "2             16   -1.313854    36.706867          0  "
      ]
     },
     "execution_count": 12,
     "metadata": {},
     "output_type": "execute_result"
    }
   ],
   "source": [
    "df.head(3)"
   ]
  },
  {
   "cell_type": "code",
   "execution_count": 13,
   "metadata": {},
   "outputs": [
    {
     "data": {
      "text/html": [
       "<div>\n",
       "<style scoped>\n",
       "    .dataframe tbody tr th:only-of-type {\n",
       "        vertical-align: middle;\n",
       "    }\n",
       "\n",
       "    .dataframe tbody tr th {\n",
       "        vertical-align: top;\n",
       "    }\n",
       "\n",
       "    .dataframe thead th {\n",
       "        text-align: right;\n",
       "    }\n",
       "</style>\n",
       "<table border=\"1\" class=\"dataframe\">\n",
       "  <thead>\n",
       "    <tr style=\"text-align: right;\">\n",
       "      <th></th>\n",
       "      <th>Personal or Business</th>\n",
       "      <th>Business Number</th>\n",
       "      <th>Vehicle Type</th>\n",
       "      <th>Standard or Express</th>\n",
       "      <th>Platform</th>\n",
       "      <th>Cancel Reason</th>\n",
       "      <th>Cancelled by</th>\n",
       "      <th>Placement Day</th>\n",
       "      <th>Placement Time</th>\n",
       "      <th>Cancellation Day</th>\n",
       "      <th>Cancellation Time</th>\n",
       "      <th>Distance (KM)</th>\n",
       "      <th>Pickup Lat</th>\n",
       "      <th>Pickup Long</th>\n",
       "      <th>scheduled</th>\n",
       "      <th>cancellation Time T</th>\n",
       "      <th>Placement time t</th>\n",
       "    </tr>\n",
       "  </thead>\n",
       "  <tbody>\n",
       "    <tr>\n",
       "      <th>0</th>\n",
       "      <td>1</td>\n",
       "      <td>NaN</td>\n",
       "      <td>0</td>\n",
       "      <td>0</td>\n",
       "      <td>1</td>\n",
       "      <td>NaN</td>\n",
       "      <td>0</td>\n",
       "      <td>1</td>\n",
       "      <td>15:23:44</td>\n",
       "      <td>1</td>\n",
       "      <td>16:43:50</td>\n",
       "      <td>4</td>\n",
       "      <td>-1.299370</td>\n",
       "      <td>36.822107</td>\n",
       "      <td>0</td>\n",
       "      <td>16</td>\n",
       "      <td>15</td>\n",
       "    </tr>\n",
       "    <tr>\n",
       "      <th>1</th>\n",
       "      <td>1</td>\n",
       "      <td>20680.0</td>\n",
       "      <td>0</td>\n",
       "      <td>0</td>\n",
       "      <td>1</td>\n",
       "      <td>NaN</td>\n",
       "      <td>0</td>\n",
       "      <td>1</td>\n",
       "      <td>14:21:46</td>\n",
       "      <td>1</td>\n",
       "      <td>14:30:48</td>\n",
       "      <td>17</td>\n",
       "      <td>-1.264490</td>\n",
       "      <td>36.789303</td>\n",
       "      <td>0</td>\n",
       "      <td>14</td>\n",
       "      <td>14</td>\n",
       "    </tr>\n",
       "    <tr>\n",
       "      <th>2</th>\n",
       "      <td>0</td>\n",
       "      <td>17968.0</td>\n",
       "      <td>0</td>\n",
       "      <td>0</td>\n",
       "      <td>1</td>\n",
       "      <td>NaN</td>\n",
       "      <td>0</td>\n",
       "      <td>1</td>\n",
       "      <td>15:13:20</td>\n",
       "      <td>1</td>\n",
       "      <td>15:56:34</td>\n",
       "      <td>18</td>\n",
       "      <td>-1.427056</td>\n",
       "      <td>36.961499</td>\n",
       "      <td>0</td>\n",
       "      <td>15</td>\n",
       "      <td>15</td>\n",
       "    </tr>\n",
       "  </tbody>\n",
       "</table>\n",
       "</div>"
      ],
      "text/plain": [
       "   Personal or Business  Business Number  Vehicle Type  Standard or Express  \\\n",
       "0                     1              NaN             0                    0   \n",
       "1                     1          20680.0             0                    0   \n",
       "2                     0          17968.0             0                    0   \n",
       "\n",
       "   Platform  Cancel Reason  Cancelled by  Placement Day Placement Time  \\\n",
       "0         1            NaN             0              1       15:23:44   \n",
       "1         1            NaN             0              1       14:21:46   \n",
       "2         1            NaN             0              1       15:13:20   \n",
       "\n",
       "   Cancellation Day Cancellation Time  Distance (KM)  Pickup Lat  Pickup Long  \\\n",
       "0                 1          16:43:50              4   -1.299370    36.822107   \n",
       "1                 1          14:30:48             17   -1.264490    36.789303   \n",
       "2                 1          15:56:34             18   -1.427056    36.961499   \n",
       "\n",
       "   scheduled  cancellation Time T  Placement time t  \n",
       "0          0                   16                15  \n",
       "1          0                   14                14  \n",
       "2          0                   15                15  "
      ]
     },
     "execution_count": 13,
     "metadata": {},
     "output_type": "execute_result"
    }
   ],
   "source": [
    "dft.head(3)"
   ]
  },
  {
   "cell_type": "markdown",
   "metadata": {},
   "source": [
    "#### I want to make the columns in both similar"
   ]
  },
  {
   "cell_type": "code",
   "execution_count": 14,
   "metadata": {},
   "outputs": [],
   "source": [
    "#Dropping the business Number colums #unimportant\n",
    "df = df.drop(['Business Number','Placement Time','Cancellation Time'], axis = 1)\n",
    "dft = dft.drop(['Business Number','Placement Time','Cancellation Time','Cancel Reason'], axis = 1)"
   ]
  },
  {
   "cell_type": "markdown",
   "metadata": {},
   "source": [
    "#### Splitting and ML"
   ]
  },
  {
   "cell_type": "code",
   "execution_count": 36,
   "metadata": {},
   "outputs": [],
   "source": [
    "x = df.drop('Cancel Reason', axis=1)\n",
    "y = df['Cancel Reason']"
   ]
  },
  {
   "cell_type": "code",
   "execution_count": 37,
   "metadata": {},
   "outputs": [],
   "source": [
    "from sklearn.preprocessing import MinMaxScaler\n",
    "\n",
    "minsc =MinMaxScaler()\n",
    "x = minsc.fit_transform(x)\n",
    "\n",
    "dft = minsc.fit_transform(dft)"
   ]
  },
  {
   "cell_type": "code",
   "execution_count": 38,
   "metadata": {},
   "outputs": [
    {
     "data": {
      "image/png": "[encoded data removed]",
      "text/plain": [
       "<Figure size 720x720 with 1 Axes>"
      ]
     },
     "metadata": {
      "needs_background": "light"
     },
     "output_type": "display_data"
    }
   ],
   "source": [
    "#PCA\n",
    "from sklearn.decomposition import PCA\n",
    "pca = PCA()\n",
    "x_pca = pca.fit_transform(x)\n",
    "\n",
    "#plot the graph to find the principal components\n",
    "plt.figure(figsize=(10,10))\n",
    "plt.plot(np.cumsum(pca.explained_variance_ratio_), 'ro-')\n",
    "plt.grid()"
   ]
  },
  {
   "cell_type": "code",
   "execution_count": 39,
   "metadata": {},
   "outputs": [],
   "source": [
    "pca_new = PCA(n_components=6)\n",
    "x = pca_new.fit_transform(x)\n",
    "\n",
    "dft = pca_new.fit_transform(dft)"
   ]
  },
  {
   "cell_type": "code",
   "execution_count": 40,
   "metadata": {},
   "outputs": [],
   "source": [
    "from sklearn.model_selection import train_test_split, GridSearchCV\n",
    "x_train, x_test, y_train, y_test = train_test_split(x, y, test_size=0.3, random_state=42)"
   ]
  },
  {
   "cell_type": "code",
   "execution_count": 41,
   "metadata": {},
   "outputs": [],
   "source": [
    "from sklearn.metrics import confusion_matrix,accuracy_score,roc_curve,classification_report\n",
    "from sklearn.linear_model import LogisticRegression\n",
    "from sklearn.naive_bayes import GaussianNB\n",
    "from xgboost import XGBClassifier\n",
    "from sklearn.ensemble import RandomForestClassifier\n",
    "from sklearn.tree import DecisionTreeClassifier\n",
    "from sklearn.neighbors import KNeighborsClassifier\n",
    "from sklearn.naive_bayes import GaussianNB\n",
    "from sklearn.svm import SVC"
   ]
  },
  {
   "cell_type": "code",
   "execution_count": 42,
   "metadata": {},
   "outputs": [
    {
     "name": "stdout",
     "output_type": "stream",
     "text": [
      "49.583333333333336\n"
     ]
    },
    {
     "data": {
      "image/png": "[encoded data removed]",
      "text/plain": [
       "<Figure size 432x288 with 1 Axes>"
      ]
     },
     "metadata": {
      "needs_background": "light"
     },
     "output_type": "display_data"
    }
   ],
   "source": [
    "rf = RandomForestClassifier(n_estimators=20, random_state=33,n_jobs=-1 ,max_depth=5)\n",
    "rf.fit(x_train, y_train)\n",
    "rfP = rf.predict(x_test)\n",
    "\n",
    "rfAS = accuracy_score(y_test, rfP)\n",
    "rfaccuracy = rfAS*100\n",
    "print (rfaccuracy)\n",
    "\n",
    "#Feature importance\n",
    "#plot graph of feature importances for better visualization\n",
    "feat_importances = pd.Series(rf.feature_importances_)\n",
    "feat_importances.nlargest(10).plot(kind='barh')\n",
    "plt.show()"
   ]
  },
  {
   "cell_type": "code",
   "execution_count": 43,
   "metadata": {},
   "outputs": [],
   "source": [
    "from sklearn.feature_selection import SelectFromModel\n",
    "rf_sfm = SelectFromModel(rf, threshold=0.1)\n",
    "\n",
    "rf_sfm = rf_sfm.fit(x_train, y_train)\n",
    "\n",
    "X_important_train = rf_sfm.transform(x_train)\n",
    "X_important_test = rf_sfm.transform(x_test)"
   ]
  },
  {
   "cell_type": "code",
   "execution_count": 44,
   "metadata": {},
   "outputs": [
    {
     "data": {
      "text/plain": [
       "46.302083333333336"
      ]
     },
     "execution_count": 44,
     "metadata": {},
     "output_type": "execute_result"
    }
   ],
   "source": [
    "# Create a new random forest classifier for the most important features\n",
    "clf_important = RandomForestClassifier(n_estimators=10000, random_state=1, n_jobs=-1)\n",
    "\n",
    "# Train the new classifier on the new dataset containing the most important features\n",
    "clf_important = clf_important.fit(X_important_train, y_train)\n",
    "\n",
    "clf_importantP = clf_important.predict(X_important_test)\n",
    "\n",
    "clf_importantAS = accuracy_score(y_test, clf_importantP)\n",
    "clf_importantaccuracy = clf_importantAS*100\n",
    "clf_importantaccuracy"
   ]
  },
  {
   "cell_type": "code",
   "execution_count": null,
   "metadata": {},
   "outputs": [],
   "source": [
    "#test_important_dftest = rf_sfm.transform(dft)\n",
    "\n",
    "\n",
    "#randomtarget = clf_important.predict(test_important_dftest)\n",
    "\n",
    "#randomtarget = encoder.inverse_transform(randomtarget)\n",
    "#randomtarget = pd.DataFrame(randomtarget, columns = ['Cancel Reason'])\n",
    "#randomtarget.to_csv(\"submissionrandommin.csv\", index = False) "
   ]
  },
  {
   "cell_type": "code",
   "execution_count": null,
   "metadata": {},
   "outputs": [],
   "source": []
  },
  {
   "cell_type": "code",
   "execution_count": 45,
   "metadata": {},
   "outputs": [
    {
     "data": {
      "text/plain": [
       "44.739583333333336"
      ]
     },
     "execution_count": 45,
     "metadata": {},
     "output_type": "execute_result"
    }
   ],
   "source": [
    "dec = DecisionTreeClassifier()\n",
    "dec.fit(x_train, y_train)\n",
    "decP = dec.predict(x_test)\n",
    "\n",
    "decAS = accuracy_score(y_test, decP)\n",
    "decaccuracy = decAS*100\n",
    "decaccuracy"
   ]
  },
  {
   "cell_type": "code",
   "execution_count": 46,
   "metadata": {},
   "outputs": [
    {
     "data": {
      "text/plain": [
       "47.91666666666667"
      ]
     },
     "execution_count": 46,
     "metadata": {},
     "output_type": "execute_result"
    }
   ],
   "source": [
    "from lightgbm import LGBMClassifier\n",
    "light = LGBMClassifier()\n",
    "light.fit(x_train, y_train)\n",
    "lightP = light.predict(x_test)\n",
    "\n",
    "lightAS = accuracy_score(y_test, lightP)\n",
    "lightaccuracy = lightAS*100\n",
    "lightaccuracy"
   ]
  },
  {
   "cell_type": "code",
   "execution_count": 47,
   "metadata": {},
   "outputs": [
    {
     "data": {
      "text/plain": [
       "49.0625"
      ]
     },
     "execution_count": 47,
     "metadata": {},
     "output_type": "execute_result"
    }
   ],
   "source": [
    "knn = KNeighborsClassifier(n_neighbors=10)\n",
    "knn.fit(x_train, y_train)\n",
    "knnP = knn.predict(x_test)\n",
    "\n",
    "knnAS = accuracy_score(y_test, knnP)\n",
    "knnaccuracy = knnAS*100\n",
    "knnaccuracy"
   ]
  },
  {
   "cell_type": "code",
   "execution_count": 48,
   "metadata": {},
   "outputs": [
    {
     "data": {
      "text/plain": [
       "48.333333333333336"
      ]
     },
     "execution_count": 48,
     "metadata": {},
     "output_type": "execute_result"
    }
   ],
   "source": [
    "svc =  SVC(kernel='rbf', C=2)\n",
    "svc.fit(x_train, y_train)\n",
    "svcP = svc.predict(x_test)\n",
    "\n",
    "svcAS = accuracy_score(y_test, svcP)\n",
    "svcaccuracy = svcAS*100\n",
    "svcaccuracy"
   ]
  },
  {
   "cell_type": "code",
   "execution_count": 49,
   "metadata": {},
   "outputs": [
    {
     "data": {
      "text/plain": [
       "48.333333333333336"
      ]
     },
     "execution_count": 49,
     "metadata": {},
     "output_type": "execute_result"
    }
   ],
   "source": [
    "svc =  SVC(kernel='rbf', C=2)\n",
    "svc.fit(x_train, y_train)\n",
    "svcP = svc.predict(x_test)\n",
    "\n",
    "svcAS = accuracy_score(y_test, svcP)\n",
    "svcaccuracy = svcAS*100\n",
    "svcaccuracy"
   ]
  },
  {
   "cell_type": "code",
   "execution_count": 50,
   "metadata": {},
   "outputs": [
    {
     "name": "stdout",
     "output_type": "stream",
     "text": [
      "Num Features: 3\n",
      "Selected Features: [False  True  True False  True False]\n",
      "Feature Ranking: [3 1 1 4 1 2]\n"
     ]
    }
   ],
   "source": [
    "#Recursive Feature Elimination (RFE)\n",
    "\n",
    "from sklearn.feature_selection import RFE #importing RFE class from sklearn library\n",
    "\n",
    "rfe = RFE(estimator= dec , step = 1) \n",
    "fit = rfe.fit(x_train, y_train)\n",
    "\n",
    "print(\"Num Features: %d\" % fit.n_features_)\n",
    "print(\"Selected Features: %s\" % fit.support_)\n",
    "print(\"Feature Ranking: %s\" % fit.ranking_)"
   ]
  },
  {
   "cell_type": "code",
   "execution_count": 51,
   "metadata": {},
   "outputs": [
    {
     "data": {
      "text/plain": [
       "45.83333333333333"
      ]
     },
     "execution_count": 51,
     "metadata": {},
     "output_type": "execute_result"
    }
   ],
   "source": [
    "# Transforming the data\n",
    "x_train_rfe = rfe.transform(x_train)\n",
    "x_test_rfe = rfe.transform(x_test)\n",
    "\n",
    "# Fitting our baseline model with the transformed data\n",
    "dec_rfe_model = dec.fit(x_train_rfe, y_train)\n",
    "\n",
    "dec_rfeP = dec_rfe_model.predict(x_test_rfe)\n",
    "\n",
    "dec_rfeAS = accuracy_score(y_test, dec_rfeP)\n",
    "decrfeaccuracy = dec_rfeAS*100\n",
    "decrfeaccuracy"
   ]
  },
  {
   "cell_type": "code",
   "execution_count": 52,
   "metadata": {},
   "outputs": [
    {
     "data": {
      "text/plain": [
       "38.958333333333336"
      ]
     },
     "execution_count": 52,
     "metadata": {},
     "output_type": "execute_result"
    }
   ],
   "source": [
    "from sklearn.ensemble import AdaBoostClassifier\n",
    "ada = AdaBoostClassifier(n_estimators=100, random_state=33)\n",
    "ada.fit(x_train, y_train)\n",
    "adaP = ada.predict(x_test)\n",
    "\n",
    "adaAS = accuracy_score(y_test, adaP)\n",
    "adaaccuracy = adaAS*100\n",
    "adaaccuracy"
   ]
  },
  {
   "cell_type": "code",
   "execution_count": null,
   "metadata": {},
   "outputs": [],
   "source": []
  },
  {
   "cell_type": "code",
   "execution_count": 54,
   "metadata": {},
   "outputs": [
    {
     "data": {
      "text/plain": [
       "49.010416666666664"
      ]
     },
     "execution_count": 54,
     "metadata": {},
     "output_type": "execute_result"
    }
   ],
   "source": [
    "#Using Boosting model\n",
    "\n",
    "from sklearn.ensemble import GradientBoostingClassifier\n",
    "\n",
    "boostmodel = GradientBoostingClassifier()\n",
    "boostmodel.fit(x_train, y_train)\n",
    "boostmodelP = boostmodel.predict(x_test)\n",
    "\n",
    "boostmodelAS = accuracy_score(y_test, boostmodelP)\n",
    "boostaccuracy = boostmodelAS*100\n",
    "boostaccuracy"
   ]
  },
  {
   "cell_type": "code",
   "execution_count": 55,
   "metadata": {},
   "outputs": [],
   "source": [
    "#Hyperparameter Tuning\n",
    "\n",
    "#RandomizedSearchCV\n",
    "\n",
    "def print_results(results):\n",
    "    print('BEST PARAMS: {}\\n'.format(results.best_params_))\n",
    "\n",
    "    means = results.cv_results_['mean_test_score']\n",
    "    stds = results.cv_results_['std_test_score']\n",
    "    for mean, std, params in zip(means, stds, results.cv_results_['params']):\n",
    "        print('{} (+/-{}) for {}'.format(round(mean, 3), round(std * 2, 3), params))"
   ]
  },
  {
   "cell_type": "code",
   "execution_count": null,
   "metadata": {},
   "outputs": [],
   "source": [
    "gbc = GradientBoostingClassifier()\n",
    "parameters = {\n",
    "    'n_estimators': [5, 50, 100, 150, 250],\n",
    "    'max_depth': [2, 3, 4, 8, 16, 32, None],\n",
    "    'learning_rate': [0.03, 0.1, 0.3, 1]\n",
    "}\n",
    "\n",
    "from sklearn.model_selection import RandomizedSearchCV\n",
    "rs = RandomizedSearchCV(gbc, parameters, cv=5,n_iter=20)\n",
    "rs.fit(x_train, y_train)\n",
    "\n",
    "print_results(rs)"
   ]
  },
  {
   "cell_type": "code",
   "execution_count": null,
   "metadata": {},
   "outputs": [],
   "source": [
    "#gridsearch\n",
    "from sklearn.model_selection import GridSearchCV,RandomizedSearchCV\n",
    "gbc = GradientBoostingClassifier()\n",
    "parameters = {\n",
    "    'n_estimators': [80, 90, 100, 125, 150],\n",
    "    'max_depth': [2,3,4,5,8,16,None],\n",
    "    'learning_rate': [0.03, 0.1, 0.3, 0.5]\n",
    "}\n",
    "cv = GridSearchCV(gbc, parameters, cv=5)\n",
    "cv.fit(x_train, y_train)\n",
    "\n",
    "print_results(cv)\n",
    "\n",
    "cvP= cv.predict(x_test)\n",
    "\n",
    "cvAS = accuracy_score(y_test, cvP)\n",
    "cvaccuracy = cvAS*100\n",
    "cvaccuracy"
   ]
  },
  {
   "cell_type": "code",
   "execution_count": null,
   "metadata": {},
   "outputs": [],
   "source": []
  }
 ],
 "metadata": {
  "kernelspec": {
   "display_name": "Python 3",
   "language": "python",
   "name": "python3"
  },
  "language_info": {
   "codemirror_mode": {
    "name": "ipython",
    "version": 3
   },
   "file_extension": ".py",
   "mimetype": "text/x-python",
   "name": "python",
   "nbconvert_exporter": "python",
   "pygments_lexer": "ipython3",
   "version": "3.7.6"
  }
 },
 "nbformat": 4,
 "nbformat_minor": 4
}
